{
  "nbformat": 4,
  "nbformat_minor": 0,
  "metadata": {
    "colab": {
      "provenance": []
    },
    "kernelspec": {
      "name": "python3",
      "display_name": "Python 3"
    },
    "language_info": {
      "name": "python"
    }
  },
  "cells": [
    {
      "cell_type": "code",
      "execution_count": 14,
      "metadata": {
        "id": "11IPnVR6m3Rm"
      },
      "outputs": [],
      "source": [
        "import time\n",
        "from IPython.display import display, HTML\n"
      ]
    },
    {
      "cell_type": "code",
      "source": [
        "def introducao():\n",
        "  print(\"Você gosta de filmes com drama envolvido? Se sim, essa mensagem pode ser para você!\")\n",
        "  time.sleep(1)\n",
        "  print(\"\\nDeseja continuar? (Sim/Não)\")\n",
        "  escolha = input().strip().lower()\n",
        "  return escolha"
      ],
      "metadata": {
        "id": "o44SFnUcnJeO"
      },
      "execution_count": 15,
      "outputs": []
    },
    {
      "cell_type": "code",
      "source": [
        "def exibir_trailer():\n",
        "  print(\"\\nAqui está o trailer do filme que estou sugerindo para você.\")\n",
        "  time.sleep(2)\n",
        "  print(\"Aguarde alguns instantes...\")\n",
        "  trailer_url = \"https://youtu.be/MxnQhCUhltU?si=wL4KDy9QdMe5mvF8\"\n",
        "  print(f\"\\nClique no link abaixo para assistir ao trailer :)\")\n",
        "\n",
        "  display(HTML(f'<a href=\"{trailer_url}\" target=\"_blank\">Assista ao trailer no YouTube</a>'))\n",
        "\n",
        "  time.sleep(1)\n",
        "  print(\"\\nQuando terminar de assistir ao trailer do filme, pressione Enter para continuar.\")\n",
        "  input()"
      ],
      "metadata": {
        "id": "TAiBRoD1nPix"
      },
      "execution_count": 16,
      "outputs": []
    },
    {
      "cell_type": "code",
      "source": [
        "def pergunta_final():\n",
        "  print(\"...\")\n",
        "  print(\"\\nO que você acha de irmos assistir esse filme com bastante pipoca envolvida e direito a lágrimas?\")\n",
        "  time.sleep(1)\n",
        "  print(\"\\nEscolha uma das opções a seguir:\")\n",
        "  print(\"1 - Quero muito! Já vou separar o lencinho.\")\n",
        "  print(\"2 - Eu topo!\")\n",
        "  print(\"3 - Deixa pra próxima.\")\n",
        "\n",
        "  resposta = input().strip()\n",
        "  return resposta"
      ],
      "metadata": {
        "id": "17JQatmun0n7"
      },
      "execution_count": 17,
      "outputs": []
    },
    {
      "cell_type": "code",
      "source": [
        "def resposta_final(resposta):\n",
        "  if resposta == \"1\":\n",
        "    print(\"\\nTá fechado então! S2\")\n",
        "  elif resposta == \"2\":\n",
        "    print(\"\\nLegal vamos agendar então!\")\n",
        "  elif resposta == \"3\":\n",
        "    print(\"\\nNão tem problema!\")\n",
        "  else:\n",
        "    print(\"\\nResposta inválida. Tente novamente.\")"
      ],
      "metadata": {
        "id": "wvN8kF8cn1oG"
      },
      "execution_count": 18,
      "outputs": []
    },
    {
      "cell_type": "code",
      "source": [
        "def main():\n",
        "  escolha_inicial = introducao()\n",
        "\n",
        "  if escolha_inicial == \"sim\":\n",
        "    exibir_trailer()\n",
        "    escolha_final = pergunta_final()\n",
        "    resposta_final(escolha_final)\n",
        "  elif escolha_inicial == \"não\":\n",
        "    print(\"\\nSem problema, talvez em outra oportunidade.\")\n",
        "  else:\n",
        "    print(\"\\nResposta inválida. Tente novamente.\")\n",
        "\n",
        "if __name__ == \"__main__\":\n",
        "  main()"
      ],
      "metadata": {
        "id": "H4mgbx3jn5BK"
      },
      "execution_count": null,
      "outputs": []
    }
  ]
}